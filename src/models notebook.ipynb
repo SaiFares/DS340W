{
  "cells": [
    {
      "cell_type": "markdown",
      "metadata": {
        "id": "QxpO46Ul8qp0",
        "nbgrader": {
          "grade": false,
          "locked": true,
          "solution": false
        }
      },
      "source": [
        "## ProjF3 - Baseline Model"
      ]
    },
    {
      "cell_type": "code",
      "execution_count": 2,
      "metadata": {},
      "outputs": [],
      "source": [
        "# !pip install xgboost tensorflow pandas numpy scikit-learn matplotlib statsmodels"
      ]
    },
    {
      "cell_type": "code",
      "execution_count": 1,
      "metadata": {
        "id": "ibqBgqcr8qp3",
        "nbgrader": {
          "grade": false,
          "locked": true,
          "solution": false
        }
      },
      "outputs": [],
      "source": [
        "#Importing all the necessary libraries\n",
        "import numpy as np\n",
        "import matplotlib.pyplot as plt\n",
        "import sklearn\n",
        "from sklearn.model_selection import train_test_split\n",
        "import pandas as pd\n",
        "from sklearn.preprocessing import MinMaxScaler\n",
        "from keras.models import Sequential\n",
        "from keras.layers import LSTM, Dense\n",
        "from keras.layers import Conv1D, MaxPooling1D, Flatten, Dense\n",
        "from keras.optimizers import Adam\n",
        "from sklearn.ensemble import RandomForestRegressor\n",
        "from sklearn.metrics import mean_squared_error\n",
        "from sklearn.linear_model import LinearRegression\n",
        "from sklearn.neural_network import MLPRegressor\n",
        "from tensorflow.keras.models import Sequential\n",
        "from tensorflow.keras.layers import Dense\n"
      ]
    },
    {
      "cell_type": "markdown",
      "metadata": {
        "id": "DVrK750r8qp4",
        "nbgrader": {
          "grade": false,
          "locked": true,
          "solution": false
        }
      },
      "source": [
        "# 1. Load and Prepare Data"
      ]
    },
    {
      "cell_type": "code",
      "execution_count": 40,
      "metadata": {
        "id": "WB3iJ5Rl8qp4",
        "nbgrader": {
          "grade": false,
          "locked": true,
          "solution": false
        }
      },
      "outputs": [],
      "source": [
        "data = pd.read_csv('../data/train.csv')\n",
        "test = pd.read_csv('../data/test.csv')"
      ]
    },
    {
      "cell_type": "code",
      "execution_count": 41,
      "metadata": {},
      "outputs": [
        {
          "data": {
            "text/html": [
              "<div>\n",
              "<style scoped>\n",
              "    .dataframe tbody tr th:only-of-type {\n",
              "        vertical-align: middle;\n",
              "    }\n",
              "\n",
              "    .dataframe tbody tr th {\n",
              "        vertical-align: top;\n",
              "    }\n",
              "\n",
              "    .dataframe thead th {\n",
              "        text-align: right;\n",
              "    }\n",
              "</style>\n",
              "<table border=\"1\" class=\"dataframe\">\n",
              "  <thead>\n",
              "    <tr style=\"text-align: right;\">\n",
              "      <th></th>\n",
              "      <th>date</th>\n",
              "      <th>store</th>\n",
              "      <th>item</th>\n",
              "      <th>sales</th>\n",
              "    </tr>\n",
              "  </thead>\n",
              "  <tbody>\n",
              "    <tr>\n",
              "      <th>0</th>\n",
              "      <td>2013-01-01</td>\n",
              "      <td>1</td>\n",
              "      <td>1</td>\n",
              "      <td>13</td>\n",
              "    </tr>\n",
              "    <tr>\n",
              "      <th>1</th>\n",
              "      <td>2013-01-02</td>\n",
              "      <td>1</td>\n",
              "      <td>1</td>\n",
              "      <td>11</td>\n",
              "    </tr>\n",
              "    <tr>\n",
              "      <th>2</th>\n",
              "      <td>2013-01-03</td>\n",
              "      <td>1</td>\n",
              "      <td>1</td>\n",
              "      <td>14</td>\n",
              "    </tr>\n",
              "    <tr>\n",
              "      <th>3</th>\n",
              "      <td>2013-01-04</td>\n",
              "      <td>1</td>\n",
              "      <td>1</td>\n",
              "      <td>13</td>\n",
              "    </tr>\n",
              "    <tr>\n",
              "      <th>4</th>\n",
              "      <td>2013-01-05</td>\n",
              "      <td>1</td>\n",
              "      <td>1</td>\n",
              "      <td>10</td>\n",
              "    </tr>\n",
              "    <tr>\n",
              "      <th>...</th>\n",
              "      <td>...</td>\n",
              "      <td>...</td>\n",
              "      <td>...</td>\n",
              "      <td>...</td>\n",
              "    </tr>\n",
              "    <tr>\n",
              "      <th>912995</th>\n",
              "      <td>2017-12-27</td>\n",
              "      <td>10</td>\n",
              "      <td>50</td>\n",
              "      <td>63</td>\n",
              "    </tr>\n",
              "    <tr>\n",
              "      <th>912996</th>\n",
              "      <td>2017-12-28</td>\n",
              "      <td>10</td>\n",
              "      <td>50</td>\n",
              "      <td>59</td>\n",
              "    </tr>\n",
              "    <tr>\n",
              "      <th>912997</th>\n",
              "      <td>2017-12-29</td>\n",
              "      <td>10</td>\n",
              "      <td>50</td>\n",
              "      <td>74</td>\n",
              "    </tr>\n",
              "    <tr>\n",
              "      <th>912998</th>\n",
              "      <td>2017-12-30</td>\n",
              "      <td>10</td>\n",
              "      <td>50</td>\n",
              "      <td>62</td>\n",
              "    </tr>\n",
              "    <tr>\n",
              "      <th>912999</th>\n",
              "      <td>2017-12-31</td>\n",
              "      <td>10</td>\n",
              "      <td>50</td>\n",
              "      <td>82</td>\n",
              "    </tr>\n",
              "  </tbody>\n",
              "</table>\n",
              "<p>913000 rows × 4 columns</p>\n",
              "</div>"
            ],
            "text/plain": [
              "              date  store  item  sales\n",
              "0       2013-01-01      1     1     13\n",
              "1       2013-01-02      1     1     11\n",
              "2       2013-01-03      1     1     14\n",
              "3       2013-01-04      1     1     13\n",
              "4       2013-01-05      1     1     10\n",
              "...            ...    ...   ...    ...\n",
              "912995  2017-12-27     10    50     63\n",
              "912996  2017-12-28     10    50     59\n",
              "912997  2017-12-29     10    50     74\n",
              "912998  2017-12-30     10    50     62\n",
              "912999  2017-12-31     10    50     82\n",
              "\n",
              "[913000 rows x 4 columns]"
            ]
          },
          "execution_count": 41,
          "metadata": {},
          "output_type": "execute_result"
        }
      ],
      "source": [
        "data "
      ]
    },
    {
      "cell_type": "code",
      "execution_count": 42,
      "metadata": {
        "colab": {
          "base_uri": "https://localhost:8080/"
        },
        "id": "yi-l_BS7gE7s",
        "outputId": "456d0c97-dd1d-4e86-c8e8-69d66381a09f"
      },
      "outputs": [
        {
          "name": "stdout",
          "output_type": "stream",
          "text": [
            "Duplicate rows: 0\n"
          ]
        }
      ],
      "source": [
        "#Checking for duplicate rows in the dataset\n",
        "print(\"Duplicate rows:\", data.duplicated().sum())"
      ]
    },
    {
      "cell_type": "code",
      "execution_count": 43,
      "metadata": {
        "colab": {
          "base_uri": "https://localhost:8080/"
        },
        "id": "9vL6JjygiYoE",
        "outputId": "3212314f-9756-4690-eaf3-92aeabe2737f"
      },
      "outputs": [
        {
          "name": "stdout",
          "output_type": "stream",
          "text": [
            "date     object\n",
            "store     int64\n",
            "item      int64\n",
            "sales     int64\n",
            "dtype: object\n"
          ]
        }
      ],
      "source": [
        "print(data.dtypes)"
      ]
    },
    {
      "cell_type": "code",
      "execution_count": 44,
      "metadata": {
        "id": "vZL0MwgJikMg"
      },
      "outputs": [],
      "source": [
        "#Converting 'date' attribute to date type\n",
        "data['date'] = pd.to_datetime(data['date'], format='%Y-%m-%d')\n"
      ]
    },
    {
      "cell_type": "code",
      "execution_count": 45,
      "metadata": {
        "colab": {
          "base_uri": "https://localhost:8080/"
        },
        "id": "IBv5JHcPZ4em",
        "outputId": "43c9368f-15b5-4d33-c4f5-8cdebf08caf5"
      },
      "outputs": [
        {
          "data": {
            "text/plain": [
              "date     0\n",
              "store    0\n",
              "item     0\n",
              "sales    0\n",
              "dtype: int64"
            ]
          },
          "execution_count": 45,
          "metadata": {},
          "output_type": "execute_result"
        }
      ],
      "source": [
        "#Checking for null values in the dataset\n",
        "data.isna().sum()"
      ]
    },
    {
      "cell_type": "code",
      "execution_count": 46,
      "metadata": {
        "colab": {
          "base_uri": "https://localhost:8080/"
        },
        "id": "nUWVfc5bk4ET",
        "outputId": "39828717-8727-4acf-a357-0914f6b2dfd2"
      },
      "outputs": [
        {
          "data": {
            "text/plain": [
              "sales    1.000000\n",
              "date     0.195909\n",
              "store   -0.008170\n",
              "item    -0.055998\n",
              "Name: sales, dtype: float64"
            ]
          },
          "execution_count": 46,
          "metadata": {},
          "output_type": "execute_result"
        }
      ],
      "source": [
        "#Correlation of each attribute with sales\n",
        "corr = data.corr()\n",
        "corr['sales'].sort_values(ascending=False)\n"
      ]
    },
    {
      "cell_type": "markdown",
      "metadata": {
        "id": "90O9Wpx3ldPF"
      },
      "source": [
        "####Since none of the attributes individually exhibit a strong correlation with sales, we have decided to include all attributes in the model. By considering them together, we aim to capture potential interactions and dependencies between the attributes, which can contribute to the effectiveness of the model during training."
      ]
    },
    {
      "cell_type": "code",
      "execution_count": 47,
      "metadata": {
        "id": "whtb2-YEc10y"
      },
      "outputs": [],
      "source": [
        "'''Sorting the data according to date as it is a time-stamped dataset and it\n",
        "would be convinient for traininig the models on sorted data'''\n",
        "\n",
        "data = data.sort_values('date')"
      ]
    },
    {
      "cell_type": "code",
      "execution_count": 48,
      "metadata": {
        "colab": {
          "base_uri": "https://localhost:8080/"
        },
        "id": "pFDws1ZmZ4nE",
        "outputId": "0a31e4e8-ce0f-45ad-f47e-e0b49782e6b2"
      },
      "outputs": [
        {
          "data": {
            "text/plain": [
              "date     0\n",
              "store    0\n",
              "item     0\n",
              "sales    0\n",
              "dtype: int64"
            ]
          },
          "execution_count": 48,
          "metadata": {},
          "output_type": "execute_result"
        }
      ],
      "source": [
        "data.isna().sum()"
      ]
    },
    {
      "cell_type": "code",
      "execution_count": 49,
      "metadata": {
        "id": "4VAFYSTDcZrs"
      },
      "outputs": [],
      "source": [
        "#Storing the rest of the data in X (train set)\n",
        "X = data.copy()\n",
        "X = X.reset_index(drop=True)"
      ]
    },
    {
      "cell_type": "code",
      "execution_count": 50,
      "metadata": {
        "colab": {
          "base_uri": "https://localhost:8080/",
          "height": 423
        },
        "id": "cVb16u5KdF1R",
        "outputId": "b84f3860-641e-40d6-dfa5-8c3c7bd1dfea"
      },
      "outputs": [
        {
          "data": {
            "text/html": [
              "<div>\n",
              "<style scoped>\n",
              "    .dataframe tbody tr th:only-of-type {\n",
              "        vertical-align: middle;\n",
              "    }\n",
              "\n",
              "    .dataframe tbody tr th {\n",
              "        vertical-align: top;\n",
              "    }\n",
              "\n",
              "    .dataframe thead th {\n",
              "        text-align: right;\n",
              "    }\n",
              "</style>\n",
              "<table border=\"1\" class=\"dataframe\">\n",
              "  <thead>\n",
              "    <tr style=\"text-align: right;\">\n",
              "      <th></th>\n",
              "      <th>date</th>\n",
              "      <th>store</th>\n",
              "      <th>item</th>\n",
              "      <th>sales</th>\n",
              "    </tr>\n",
              "  </thead>\n",
              "  <tbody>\n",
              "    <tr>\n",
              "      <th>0</th>\n",
              "      <td>2013-01-01</td>\n",
              "      <td>1</td>\n",
              "      <td>1</td>\n",
              "      <td>13</td>\n",
              "    </tr>\n",
              "    <tr>\n",
              "      <th>1</th>\n",
              "      <td>2013-01-01</td>\n",
              "      <td>7</td>\n",
              "      <td>12</td>\n",
              "      <td>26</td>\n",
              "    </tr>\n",
              "    <tr>\n",
              "      <th>2</th>\n",
              "      <td>2013-01-01</td>\n",
              "      <td>7</td>\n",
              "      <td>46</td>\n",
              "      <td>27</td>\n",
              "    </tr>\n",
              "    <tr>\n",
              "      <th>3</th>\n",
              "      <td>2013-01-01</td>\n",
              "      <td>8</td>\n",
              "      <td>12</td>\n",
              "      <td>54</td>\n",
              "    </tr>\n",
              "    <tr>\n",
              "      <th>4</th>\n",
              "      <td>2013-01-01</td>\n",
              "      <td>9</td>\n",
              "      <td>12</td>\n",
              "      <td>35</td>\n",
              "    </tr>\n",
              "    <tr>\n",
              "      <th>...</th>\n",
              "      <td>...</td>\n",
              "      <td>...</td>\n",
              "      <td>...</td>\n",
              "      <td>...</td>\n",
              "    </tr>\n",
              "    <tr>\n",
              "      <th>912995</th>\n",
              "      <td>2017-12-31</td>\n",
              "      <td>9</td>\n",
              "      <td>34</td>\n",
              "      <td>21</td>\n",
              "    </tr>\n",
              "    <tr>\n",
              "      <th>912996</th>\n",
              "      <td>2017-12-31</td>\n",
              "      <td>10</td>\n",
              "      <td>34</td>\n",
              "      <td>32</td>\n",
              "    </tr>\n",
              "    <tr>\n",
              "      <th>912997</th>\n",
              "      <td>2017-12-31</td>\n",
              "      <td>1</td>\n",
              "      <td>35</td>\n",
              "      <td>55</td>\n",
              "    </tr>\n",
              "    <tr>\n",
              "      <th>912998</th>\n",
              "      <td>2017-12-31</td>\n",
              "      <td>8</td>\n",
              "      <td>33</td>\n",
              "      <td>100</td>\n",
              "    </tr>\n",
              "    <tr>\n",
              "      <th>912999</th>\n",
              "      <td>2017-12-31</td>\n",
              "      <td>10</td>\n",
              "      <td>50</td>\n",
              "      <td>82</td>\n",
              "    </tr>\n",
              "  </tbody>\n",
              "</table>\n",
              "<p>913000 rows × 4 columns</p>\n",
              "</div>"
            ],
            "text/plain": [
              "             date  store  item  sales\n",
              "0      2013-01-01      1     1     13\n",
              "1      2013-01-01      7    12     26\n",
              "2      2013-01-01      7    46     27\n",
              "3      2013-01-01      8    12     54\n",
              "4      2013-01-01      9    12     35\n",
              "...           ...    ...   ...    ...\n",
              "912995 2017-12-31      9    34     21\n",
              "912996 2017-12-31     10    34     32\n",
              "912997 2017-12-31      1    35     55\n",
              "912998 2017-12-31      8    33    100\n",
              "912999 2017-12-31     10    50     82\n",
              "\n",
              "[913000 rows x 4 columns]"
            ]
          },
          "execution_count": 50,
          "metadata": {},
          "output_type": "execute_result"
        }
      ],
      "source": [
        "#Printing the train set\n",
        "X"
      ]
    },
    {
      "cell_type": "code",
      "execution_count": 51,
      "metadata": {
        "colab": {
          "base_uri": "https://localhost:8080/",
          "height": 423
        },
        "id": "aVfZnby-dF96",
        "outputId": "8aef2f2e-57f7-4f6b-89e2-a07069ff0fde"
      },
      "outputs": [
        {
          "data": {
            "text/html": [
              "<div>\n",
              "<style scoped>\n",
              "    .dataframe tbody tr th:only-of-type {\n",
              "        vertical-align: middle;\n",
              "    }\n",
              "\n",
              "    .dataframe tbody tr th {\n",
              "        vertical-align: top;\n",
              "    }\n",
              "\n",
              "    .dataframe thead th {\n",
              "        text-align: right;\n",
              "    }\n",
              "</style>\n",
              "<table border=\"1\" class=\"dataframe\">\n",
              "  <thead>\n",
              "    <tr style=\"text-align: right;\">\n",
              "      <th></th>\n",
              "      <th>id</th>\n",
              "      <th>date</th>\n",
              "      <th>store</th>\n",
              "      <th>item</th>\n",
              "      <th>sales</th>\n",
              "    </tr>\n",
              "  </thead>\n",
              "  <tbody>\n",
              "    <tr>\n",
              "      <th>0</th>\n",
              "      <td>0</td>\n",
              "      <td>2018-01-01</td>\n",
              "      <td>1</td>\n",
              "      <td>1</td>\n",
              "      <td>NaN</td>\n",
              "    </tr>\n",
              "    <tr>\n",
              "      <th>1</th>\n",
              "      <td>1</td>\n",
              "      <td>2018-01-02</td>\n",
              "      <td>1</td>\n",
              "      <td>1</td>\n",
              "      <td>NaN</td>\n",
              "    </tr>\n",
              "    <tr>\n",
              "      <th>2</th>\n",
              "      <td>2</td>\n",
              "      <td>2018-01-03</td>\n",
              "      <td>1</td>\n",
              "      <td>1</td>\n",
              "      <td>NaN</td>\n",
              "    </tr>\n",
              "    <tr>\n",
              "      <th>3</th>\n",
              "      <td>3</td>\n",
              "      <td>2018-01-04</td>\n",
              "      <td>1</td>\n",
              "      <td>1</td>\n",
              "      <td>NaN</td>\n",
              "    </tr>\n",
              "    <tr>\n",
              "      <th>4</th>\n",
              "      <td>4</td>\n",
              "      <td>2018-01-05</td>\n",
              "      <td>1</td>\n",
              "      <td>1</td>\n",
              "      <td>NaN</td>\n",
              "    </tr>\n",
              "    <tr>\n",
              "      <th>...</th>\n",
              "      <td>...</td>\n",
              "      <td>...</td>\n",
              "      <td>...</td>\n",
              "      <td>...</td>\n",
              "      <td>...</td>\n",
              "    </tr>\n",
              "    <tr>\n",
              "      <th>44995</th>\n",
              "      <td>44995</td>\n",
              "      <td>2018-03-27</td>\n",
              "      <td>10</td>\n",
              "      <td>50</td>\n",
              "      <td>NaN</td>\n",
              "    </tr>\n",
              "    <tr>\n",
              "      <th>44996</th>\n",
              "      <td>44996</td>\n",
              "      <td>2018-03-28</td>\n",
              "      <td>10</td>\n",
              "      <td>50</td>\n",
              "      <td>NaN</td>\n",
              "    </tr>\n",
              "    <tr>\n",
              "      <th>44997</th>\n",
              "      <td>44997</td>\n",
              "      <td>2018-03-29</td>\n",
              "      <td>10</td>\n",
              "      <td>50</td>\n",
              "      <td>NaN</td>\n",
              "    </tr>\n",
              "    <tr>\n",
              "      <th>44998</th>\n",
              "      <td>44998</td>\n",
              "      <td>2018-03-30</td>\n",
              "      <td>10</td>\n",
              "      <td>50</td>\n",
              "      <td>NaN</td>\n",
              "    </tr>\n",
              "    <tr>\n",
              "      <th>44999</th>\n",
              "      <td>44999</td>\n",
              "      <td>2018-03-31</td>\n",
              "      <td>10</td>\n",
              "      <td>50</td>\n",
              "      <td>NaN</td>\n",
              "    </tr>\n",
              "  </tbody>\n",
              "</table>\n",
              "<p>45000 rows × 5 columns</p>\n",
              "</div>"
            ],
            "text/plain": [
              "          id        date  store  item  sales\n",
              "0          0  2018-01-01      1     1    NaN\n",
              "1          1  2018-01-02      1     1    NaN\n",
              "2          2  2018-01-03      1     1    NaN\n",
              "3          3  2018-01-04      1     1    NaN\n",
              "4          4  2018-01-05      1     1    NaN\n",
              "...      ...         ...    ...   ...    ...\n",
              "44995  44995  2018-03-27     10    50    NaN\n",
              "44996  44996  2018-03-28     10    50    NaN\n",
              "44997  44997  2018-03-29     10    50    NaN\n",
              "44998  44998  2018-03-30     10    50    NaN\n",
              "44999  44999  2018-03-31     10    50    NaN\n",
              "\n",
              "[45000 rows x 5 columns]"
            ]
          },
          "execution_count": 51,
          "metadata": {},
          "output_type": "execute_result"
        }
      ],
      "source": [
        "#Printing the test set\n",
        "y = test.reset_index(drop=True)\n",
        "y['sales'] = np.nan \n",
        "y"
      ]
    },
    {
      "cell_type": "code",
      "execution_count": 52,
      "metadata": {
        "colab": {
          "base_uri": "https://localhost:8080/",
          "height": 444
        },
        "id": "NkSzAEmbh-fr",
        "outputId": "cba38f34-4935-4ac6-dabf-30b973a3ed18"
      },
      "outputs": [
        {
          "data": {
            "image/png": "[encoded data removed]",
            "text/plain": [
              "<Figure size 640x480 with 1 Axes>"
            ]
          },
          "metadata": {},
          "output_type": "display_data"
        }
      ],
      "source": [
        "#Data distribution for each year in train set\n",
        "X['year'] = X['date'].dt.year\n",
        "\n",
        "year_counts = X['year'].value_counts()\n",
        "\n",
        "plt.pie(year_counts, labels=year_counts.index, autopct='%1.1f%%')\n",
        "\n",
        "\n",
        "plt.title('Distribution of Data Values by Year')\n",
        "\n",
        "\n",
        "plt.show()\n"
      ]
    },
    {
      "cell_type": "markdown",
      "metadata": {
        "id": "UfaTwka0kO5a"
      },
      "source": [
        "#### As we can see, we do not have any data imbalance in the train set. The data is distributed uniformly for each year."
      ]
    },
    {
      "cell_type": "code",
      "execution_count": 53,
      "metadata": {
        "colab": {
          "base_uri": "https://localhost:8080/",
          "height": 261
        },
        "id": "JsK2SK7ZdE7D",
        "outputId": "645eabfc-d5e7-4975-bb9f-0a1f213a7554"
      },
      "outputs": [
        {
          "data": {
            "image/png": "[encoded data removed]",
            "text/plain": [
              "<Figure size 640x480 with 1 Axes>"
            ]
          },
          "metadata": {},
          "output_type": "display_data"
        }
      ],
      "source": [
        "#Bar plot for showing the data distribution in train and test split\n",
        "\n",
        "num_train = X.shape[0]\n",
        "num_test = y.shape[0]\n",
        "\n",
        "plt.bar(['Training Set', 'Test Set'], [num_train, num_test])\n",
        "\n",
        "plt.title('Number of Data Values in Each Set')\n",
        "plt.xlabel('Set')\n",
        "plt.ylabel('Number of Data Values')\n",
        "\n",
        "plt.show()\n"
      ]
    },
    {
      "cell_type": "markdown",
      "metadata": {
        "id": "-K3ISILq8qp5"
      },
      "source": [
        "# 2. Preparing Baseline Models"
      ]
    },
    {
      "cell_type": "markdown",
      "metadata": {
        "id": "r8XE-oUQ-JbZ"
      },
      "source": [
        "## LSTM"
      ]
    },
    {
      "cell_type": "code",
      "execution_count": 54,
      "metadata": {
        "id": "K-RbdeymvhxF"
      },
      "outputs": [],
      "source": [
        "X_lstm = X.copy()"
      ]
    },
    {
      "cell_type": "code",
      "execution_count": 55,
      "metadata": {
        "colab": {
          "base_uri": "https://localhost:8080/",
          "height": 423
        },
        "id": "ngljcrVzvh_k",
        "outputId": "45fb83c1-0c12-42ba-efb1-5255c0fcc512"
      },
      "outputs": [
        {
          "data": {
            "text/html": [
              "<div>\n",
              "<style scoped>\n",
              "    .dataframe tbody tr th:only-of-type {\n",
              "        vertical-align: middle;\n",
              "    }\n",
              "\n",
              "    .dataframe tbody tr th {\n",
              "        vertical-align: top;\n",
              "    }\n",
              "\n",
              "    .dataframe thead th {\n",
              "        text-align: right;\n",
              "    }\n",
              "</style>\n",
              "<table border=\"1\" class=\"dataframe\">\n",
              "  <thead>\n",
              "    <tr style=\"text-align: right;\">\n",
              "      <th></th>\n",
              "      <th>date</th>\n",
              "      <th>store</th>\n",
              "      <th>item</th>\n",
              "      <th>sales</th>\n",
              "      <th>year</th>\n",
              "    </tr>\n",
              "  </thead>\n",
              "  <tbody>\n",
              "    <tr>\n",
              "      <th>0</th>\n",
              "      <td>2013-01-01</td>\n",
              "      <td>1</td>\n",
              "      <td>1</td>\n",
              "      <td>13</td>\n",
              "      <td>2013</td>\n",
              "    </tr>\n",
              "    <tr>\n",
              "      <th>1</th>\n",
              "      <td>2013-01-01</td>\n",
              "      <td>7</td>\n",
              "      <td>12</td>\n",
              "      <td>26</td>\n",
              "      <td>2013</td>\n",
              "    </tr>\n",
              "    <tr>\n",
              "      <th>2</th>\n",
              "      <td>2013-01-01</td>\n",
              "      <td>7</td>\n",
              "      <td>46</td>\n",
              "      <td>27</td>\n",
              "      <td>2013</td>\n",
              "    </tr>\n",
              "    <tr>\n",
              "      <th>3</th>\n",
              "      <td>2013-01-01</td>\n",
              "      <td>8</td>\n",
              "      <td>12</td>\n",
              "      <td>54</td>\n",
              "      <td>2013</td>\n",
              "    </tr>\n",
              "    <tr>\n",
              "      <th>4</th>\n",
              "      <td>2013-01-01</td>\n",
              "      <td>9</td>\n",
              "      <td>12</td>\n",
              "      <td>35</td>\n",
              "      <td>2013</td>\n",
              "    </tr>\n",
              "    <tr>\n",
              "      <th>...</th>\n",
              "      <td>...</td>\n",
              "      <td>...</td>\n",
              "      <td>...</td>\n",
              "      <td>...</td>\n",
              "      <td>...</td>\n",
              "    </tr>\n",
              "    <tr>\n",
              "      <th>912995</th>\n",
              "      <td>2017-12-31</td>\n",
              "      <td>9</td>\n",
              "      <td>34</td>\n",
              "      <td>21</td>\n",
              "      <td>2017</td>\n",
              "    </tr>\n",
              "    <tr>\n",
              "      <th>912996</th>\n",
              "      <td>2017-12-31</td>\n",
              "      <td>10</td>\n",
              "      <td>34</td>\n",
              "      <td>32</td>\n",
              "      <td>2017</td>\n",
              "    </tr>\n",
              "    <tr>\n",
              "      <th>912997</th>\n",
              "      <td>2017-12-31</td>\n",
              "      <td>1</td>\n",
              "      <td>35</td>\n",
              "      <td>55</td>\n",
              "      <td>2017</td>\n",
              "    </tr>\n",
              "    <tr>\n",
              "      <th>912998</th>\n",
              "      <td>2017-12-31</td>\n",
              "      <td>8</td>\n",
              "      <td>33</td>\n",
              "      <td>100</td>\n",
              "      <td>2017</td>\n",
              "    </tr>\n",
              "    <tr>\n",
              "      <th>912999</th>\n",
              "      <td>2017-12-31</td>\n",
              "      <td>10</td>\n",
              "      <td>50</td>\n",
              "      <td>82</td>\n",
              "      <td>2017</td>\n",
              "    </tr>\n",
              "  </tbody>\n",
              "</table>\n",
              "<p>913000 rows × 5 columns</p>\n",
              "</div>"
            ],
            "text/plain": [
              "             date  store  item  sales  year\n",
              "0      2013-01-01      1     1     13  2013\n",
              "1      2013-01-01      7    12     26  2013\n",
              "2      2013-01-01      7    46     27  2013\n",
              "3      2013-01-01      8    12     54  2013\n",
              "4      2013-01-01      9    12     35  2013\n",
              "...           ...    ...   ...    ...   ...\n",
              "912995 2017-12-31      9    34     21  2017\n",
              "912996 2017-12-31     10    34     32  2017\n",
              "912997 2017-12-31      1    35     55  2017\n",
              "912998 2017-12-31      8    33    100  2017\n",
              "912999 2017-12-31     10    50     82  2017\n",
              "\n",
              "[913000 rows x 5 columns]"
            ]
          },
          "execution_count": 55,
          "metadata": {},
          "output_type": "execute_result"
        }
      ],
      "source": [
        "X_lstm"
      ]
    },
    {
      "cell_type": "code",
      "execution_count": 26,
      "metadata": {
        "id": "R-rQdJ0eviC_"
      },
      "outputs": [],
      "source": [
        "# Converting 'date' column to ordinal to use it as a feature\n",
        "X_lstm['date'] = X_lstm['date'].apply(lambda x: x.toordinal())"
      ]
    },
    {
      "cell_type": "code",
      "execution_count": 27,
      "metadata": {
        "colab": {
          "base_uri": "https://localhost:8080/",
          "height": 423
        },
        "id": "vYgaOYqmzCQ3",
        "outputId": "021590aa-3518-42c0-f20c-f86fe4b4efab"
      },
      "outputs": [
        {
          "data": {
            "text/html": [
              "<div>\n",
              "<style scoped>\n",
              "    .dataframe tbody tr th:only-of-type {\n",
              "        vertical-align: middle;\n",
              "    }\n",
              "\n",
              "    .dataframe tbody tr th {\n",
              "        vertical-align: top;\n",
              "    }\n",
              "\n",
              "    .dataframe thead th {\n",
              "        text-align: right;\n",
              "    }\n",
              "</style>\n",
              "<table border=\"1\" class=\"dataframe\">\n",
              "  <thead>\n",
              "    <tr style=\"text-align: right;\">\n",
              "      <th></th>\n",
              "      <th>date</th>\n",
              "      <th>store</th>\n",
              "      <th>item</th>\n",
              "      <th>sales</th>\n",
              "      <th>year</th>\n",
              "    </tr>\n",
              "  </thead>\n",
              "  <tbody>\n",
              "    <tr>\n",
              "      <th>0</th>\n",
              "      <td>734869</td>\n",
              "      <td>1</td>\n",
              "      <td>1</td>\n",
              "      <td>13</td>\n",
              "      <td>2013</td>\n",
              "    </tr>\n",
              "    <tr>\n",
              "      <th>1</th>\n",
              "      <td>734869</td>\n",
              "      <td>7</td>\n",
              "      <td>12</td>\n",
              "      <td>26</td>\n",
              "      <td>2013</td>\n",
              "    </tr>\n",
              "    <tr>\n",
              "      <th>2</th>\n",
              "      <td>734869</td>\n",
              "      <td>7</td>\n",
              "      <td>46</td>\n",
              "      <td>27</td>\n",
              "      <td>2013</td>\n",
              "    </tr>\n",
              "    <tr>\n",
              "      <th>3</th>\n",
              "      <td>734869</td>\n",
              "      <td>8</td>\n",
              "      <td>12</td>\n",
              "      <td>54</td>\n",
              "      <td>2013</td>\n",
              "    </tr>\n",
              "    <tr>\n",
              "      <th>4</th>\n",
              "      <td>734869</td>\n",
              "      <td>9</td>\n",
              "      <td>12</td>\n",
              "      <td>35</td>\n",
              "      <td>2013</td>\n",
              "    </tr>\n",
              "    <tr>\n",
              "      <th>...</th>\n",
              "      <td>...</td>\n",
              "      <td>...</td>\n",
              "      <td>...</td>\n",
              "      <td>...</td>\n",
              "      <td>...</td>\n",
              "    </tr>\n",
              "    <tr>\n",
              "      <th>912995</th>\n",
              "      <td>736694</td>\n",
              "      <td>9</td>\n",
              "      <td>34</td>\n",
              "      <td>21</td>\n",
              "      <td>2017</td>\n",
              "    </tr>\n",
              "    <tr>\n",
              "      <th>912996</th>\n",
              "      <td>736694</td>\n",
              "      <td>10</td>\n",
              "      <td>34</td>\n",
              "      <td>32</td>\n",
              "      <td>2017</td>\n",
              "    </tr>\n",
              "    <tr>\n",
              "      <th>912997</th>\n",
              "      <td>736694</td>\n",
              "      <td>1</td>\n",
              "      <td>35</td>\n",
              "      <td>55</td>\n",
              "      <td>2017</td>\n",
              "    </tr>\n",
              "    <tr>\n",
              "      <th>912998</th>\n",
              "      <td>736694</td>\n",
              "      <td>8</td>\n",
              "      <td>33</td>\n",
              "      <td>100</td>\n",
              "      <td>2017</td>\n",
              "    </tr>\n",
              "    <tr>\n",
              "      <th>912999</th>\n",
              "      <td>736694</td>\n",
              "      <td>10</td>\n",
              "      <td>50</td>\n",
              "      <td>82</td>\n",
              "      <td>2017</td>\n",
              "    </tr>\n",
              "  </tbody>\n",
              "</table>\n",
              "<p>913000 rows × 5 columns</p>\n",
              "</div>"
            ],
            "text/plain": [
              "          date  store  item  sales  year\n",
              "0       734869      1     1     13  2013\n",
              "1       734869      7    12     26  2013\n",
              "2       734869      7    46     27  2013\n",
              "3       734869      8    12     54  2013\n",
              "4       734869      9    12     35  2013\n",
              "...        ...    ...   ...    ...   ...\n",
              "912995  736694      9    34     21  2017\n",
              "912996  736694     10    34     32  2017\n",
              "912997  736694      1    35     55  2017\n",
              "912998  736694      8    33    100  2017\n",
              "912999  736694     10    50     82  2017\n",
              "\n",
              "[913000 rows x 5 columns]"
            ]
          },
          "execution_count": 27,
          "metadata": {},
          "output_type": "execute_result"
        }
      ],
      "source": [
        "X_lstm"
      ]
    },
    {
      "cell_type": "code",
      "execution_count": 28,
      "metadata": {
        "id": "IgNVwenOviGM"
      },
      "outputs": [],
      "source": [
        "# Dropping 'year' column as it is redundant\n",
        "X_lstm.drop(columns=['year'], inplace=True)"
      ]
    },
    {
      "cell_type": "code",
      "execution_count": 29,
      "metadata": {
        "id": "FYZm44FCviJW"
      },
      "outputs": [],
      "source": [
        "# Feature scaling\n",
        "scaler = MinMaxScaler()\n",
        "X_lstm[['date', 'store', 'item']] = scaler.fit_transform(X_lstm[['date', 'store', 'item']])\n",
        "y = scaler.fit_transform(X_lstm[['sales']])"
      ]
    },
    {
      "cell_type": "code",
      "execution_count": 30,
      "metadata": {
        "id": "8ruJ_Q2azKqQ"
      },
      "outputs": [],
      "source": [
        "#X_lstm['date'].unique()"
      ]
    },
    {
      "cell_type": "code",
      "execution_count": 31,
      "metadata": {
        "id": "bFK0PbE4viPL"
      },
      "outputs": [],
      "source": [
        "# Defining function to create sequences\n",
        "def create_sequences(X, y, time_steps=5):\n",
        "    X_seq, y_seq = [], []\n",
        "    for i in range(len(X) - time_steps):\n",
        "        X_seq.append(X[i:(i + time_steps)])\n",
        "        y_seq.append(y[i + time_steps])\n",
        "    return np.array(X_seq), np.array(y_seq)"
      ]
    },
    {
      "cell_type": "code",
      "execution_count": 32,
      "metadata": {
        "id": "n5p5On7iyzDt"
      },
      "outputs": [],
      "source": [
        "# Creating sequences for LSTM model\n",
        "X_seq, y_seq = create_sequences(X_lstm[['date', 'store', 'item']].values, y)\n",
        "\n",
        "# Splitting the dataset into train and test sets\n",
        "X_train_lstm, X_test_lstm, y_train_lstm, y_test_lstm = train_test_split(X_seq, y_seq, test_size=0.2, random_state=42)"
      ]
    },
    {
      "cell_type": "code",
      "execution_count": 33,
      "metadata": {
        "id": "u87dUz9NviR3"
      },
      "outputs": [],
      "source": [
        "# Define and compile the LSTM model\n",
        "lstm_model = Sequential([\n",
        "    LSTM(units=50, activation='relu', input_shape=(X_train_lstm.shape[1], X_train_lstm.shape[2])),\n",
        "    Dense(units=1)\n",
        "])\n",
        "lstm_model.compile(optimizer='adam', loss='mse')"
      ]
    },
    {
      "cell_type": "code",
      "execution_count": 34,
      "metadata": {
        "colab": {
          "base_uri": "https://localhost:8080/"
        },
        "id": "Vr4zVLfjviUp",
        "outputId": "0b6e72ab-db49-4ede-e201-b991d361c5b2"
      },
      "outputs": [
        {
          "name": "stdout",
          "output_type": "stream",
          "text": [
            "Epoch 1/25\n",
            "20543/20543 [==============================] - 21s 1ms/step - loss: 0.0149 - val_loss: 0.0146\n",
            "Epoch 2/25\n",
            "20543/20543 [==============================] - 21s 1ms/step - loss: 0.0146 - val_loss: 0.0145\n",
            "Epoch 3/25\n",
            "20543/20543 [==============================] - 21s 1ms/step - loss: 0.0146 - val_loss: 0.0144\n",
            "Epoch 4/25\n",
            "20543/20543 [==============================] - 21s 1ms/step - loss: 0.0145 - val_loss: 0.0143\n",
            "Epoch 5/25\n",
            "20543/20543 [==============================] - 21s 1ms/step - loss: 0.0143 - val_loss: 0.0139\n",
            "Epoch 6/25\n",
            "20543/20543 [==============================] - 21s 1ms/step - loss: 0.0137 - val_loss: 0.0135\n",
            "Epoch 7/25\n",
            "20543/20543 [==============================] - 21s 1ms/step - loss: 0.0136 - val_loss: 0.0136\n",
            "Epoch 8/25\n",
            "20543/20543 [==============================] - 21s 1ms/step - loss: 0.0136 - val_loss: 0.0136\n",
            "Epoch 9/25\n",
            "20543/20543 [==============================] - 21s 1ms/step - loss: 0.0136 - val_loss: 0.0135\n",
            "Epoch 10/25\n",
            "20543/20543 [==============================] - 21s 1ms/step - loss: 0.0136 - val_loss: 0.0135\n",
            "Epoch 11/25\n",
            "20543/20543 [==============================] - 21s 1ms/step - loss: 0.0136 - val_loss: 0.0134\n",
            "Epoch 12/25\n",
            "20543/20543 [==============================] - 21s 1ms/step - loss: 0.0136 - val_loss: 0.0135\n",
            "Epoch 13/25\n",
            "20543/20543 [==============================] - 21s 1ms/step - loss: 0.0136 - val_loss: 0.0135\n",
            "Epoch 14/25\n",
            "20543/20543 [==============================] - 21s 1ms/step - loss: 0.0136 - val_loss: 0.0135\n",
            "Epoch 15/25\n",
            "20543/20543 [==============================] - 21s 1ms/step - loss: 0.0136 - val_loss: 0.0134\n",
            "Epoch 16/25\n",
            "20543/20543 [==============================] - 21s 1ms/step - loss: 0.0135 - val_loss: 0.0137\n",
            "Epoch 17/25\n",
            "20543/20543 [==============================] - 452s 22ms/step - loss: 0.0135 - val_loss: 0.0134\n",
            "Epoch 18/25\n",
            "20543/20543 [==============================] - 21s 1ms/step - loss: 0.0135 - val_loss: 0.0135\n",
            "Epoch 19/25\n",
            "20543/20543 [==============================] - 21s 1ms/step - loss: 0.0135 - val_loss: 0.0135\n",
            "Epoch 20/25\n",
            "20543/20543 [==============================] - 21s 1ms/step - loss: 0.0135 - val_loss: 0.0135\n",
            "Epoch 21/25\n",
            "20543/20543 [==============================] - 21s 1ms/step - loss: 0.0135 - val_loss: 0.0134\n",
            "Epoch 22/25\n",
            "20543/20543 [==============================] - 21s 1ms/step - loss: 0.0135 - val_loss: 0.0134\n",
            "Epoch 23/25\n",
            "20543/20543 [==============================] - 21s 1ms/step - loss: 0.0135 - val_loss: 0.0134\n",
            "Epoch 24/25\n",
            "20543/20543 [==============================] - 21s 1ms/step - loss: 0.0135 - val_loss: 0.0134\n",
            "Epoch 25/25\n",
            "20543/20543 [==============================] - 21s 1ms/step - loss: 0.0135 - val_loss: 0.0134\n"
          ]
        },
        {
          "data": {
            "text/plain": [
              "<keras.src.callbacks.History at 0x315bdea90>"
            ]
          },
          "execution_count": 34,
          "metadata": {},
          "output_type": "execute_result"
        }
      ],
      "source": [
        "# Train the model\n",
        "lstm_model.fit(X_train_lstm, y_train_lstm, epochs=25, batch_size=32, validation_split=0.1)"
      ]
    },
    {
      "cell_type": "code",
      "execution_count": 35,
      "metadata": {
        "colab": {
          "base_uri": "https://localhost:8080/"
        },
        "id": "O_ul8QAcy-ON",
        "outputId": "53c73511-84bb-4e01-9c9a-6d165f04d3e5"
      },
      "outputs": [
        {
          "name": "stdout",
          "output_type": "stream",
          "text": [
            "5707/5707 [==============================] - 2s 406us/step - loss: 0.0135\n",
            "Test Loss: 0.013451041653752327\n"
          ]
        }
      ],
      "source": [
        "# Evaluating the model\n",
        "test_loss_lstm = lstm_model.evaluate(X_test_lstm, y_test_lstm)\n",
        "print(\"Test Loss:\", test_loss_lstm)"
      ]
    },
    {
      "cell_type": "markdown",
      "metadata": {
        "id": "7ASqxQoR_Cyc"
      },
      "source": [
        "## Linear Regression"
      ]
    },
    {
      "cell_type": "code",
      "execution_count": 66,
      "metadata": {
        "id": "6CJcRHgeJYPv"
      },
      "outputs": [],
      "source": [
        "X_xg = X.copy()"
      ]
    },
    {
      "cell_type": "code",
      "execution_count": 67,
      "metadata": {
        "colab": {
          "base_uri": "https://localhost:8080/",
          "height": 423
        },
        "id": "4CWUMcsyJYSk",
        "outputId": "a22cee1f-f278-47cf-a3e5-c6fa48e70aea"
      },
      "outputs": [
        {
          "data": {
            "text/html": [
              "<div>\n",
              "<style scoped>\n",
              "    .dataframe tbody tr th:only-of-type {\n",
              "        vertical-align: middle;\n",
              "    }\n",
              "\n",
              "    .dataframe tbody tr th {\n",
              "        vertical-align: top;\n",
              "    }\n",
              "\n",
              "    .dataframe thead th {\n",
              "        text-align: right;\n",
              "    }\n",
              "</style>\n",
              "<table border=\"1\" class=\"dataframe\">\n",
              "  <thead>\n",
              "    <tr style=\"text-align: right;\">\n",
              "      <th></th>\n",
              "      <th>date</th>\n",
              "      <th>store</th>\n",
              "      <th>item</th>\n",
              "      <th>sales</th>\n",
              "      <th>year</th>\n",
              "    </tr>\n",
              "  </thead>\n",
              "  <tbody>\n",
              "    <tr>\n",
              "      <th>0</th>\n",
              "      <td>2013-01-01</td>\n",
              "      <td>1</td>\n",
              "      <td>1</td>\n",
              "      <td>13</td>\n",
              "      <td>2013</td>\n",
              "    </tr>\n",
              "    <tr>\n",
              "      <th>1</th>\n",
              "      <td>2013-01-01</td>\n",
              "      <td>7</td>\n",
              "      <td>12</td>\n",
              "      <td>26</td>\n",
              "      <td>2013</td>\n",
              "    </tr>\n",
              "    <tr>\n",
              "      <th>2</th>\n",
              "      <td>2013-01-01</td>\n",
              "      <td>7</td>\n",
              "      <td>46</td>\n",
              "      <td>27</td>\n",
              "      <td>2013</td>\n",
              "    </tr>\n",
              "    <tr>\n",
              "      <th>3</th>\n",
              "      <td>2013-01-01</td>\n",
              "      <td>8</td>\n",
              "      <td>12</td>\n",
              "      <td>54</td>\n",
              "      <td>2013</td>\n",
              "    </tr>\n",
              "    <tr>\n",
              "      <th>4</th>\n",
              "      <td>2013-01-01</td>\n",
              "      <td>9</td>\n",
              "      <td>12</td>\n",
              "      <td>35</td>\n",
              "      <td>2013</td>\n",
              "    </tr>\n",
              "    <tr>\n",
              "      <th>...</th>\n",
              "      <td>...</td>\n",
              "      <td>...</td>\n",
              "      <td>...</td>\n",
              "      <td>...</td>\n",
              "      <td>...</td>\n",
              "    </tr>\n",
              "    <tr>\n",
              "      <th>912995</th>\n",
              "      <td>2017-12-31</td>\n",
              "      <td>9</td>\n",
              "      <td>34</td>\n",
              "      <td>21</td>\n",
              "      <td>2017</td>\n",
              "    </tr>\n",
              "    <tr>\n",
              "      <th>912996</th>\n",
              "      <td>2017-12-31</td>\n",
              "      <td>10</td>\n",
              "      <td>34</td>\n",
              "      <td>32</td>\n",
              "      <td>2017</td>\n",
              "    </tr>\n",
              "    <tr>\n",
              "      <th>912997</th>\n",
              "      <td>2017-12-31</td>\n",
              "      <td>1</td>\n",
              "      <td>35</td>\n",
              "      <td>55</td>\n",
              "      <td>2017</td>\n",
              "    </tr>\n",
              "    <tr>\n",
              "      <th>912998</th>\n",
              "      <td>2017-12-31</td>\n",
              "      <td>8</td>\n",
              "      <td>33</td>\n",
              "      <td>100</td>\n",
              "      <td>2017</td>\n",
              "    </tr>\n",
              "    <tr>\n",
              "      <th>912999</th>\n",
              "      <td>2017-12-31</td>\n",
              "      <td>10</td>\n",
              "      <td>50</td>\n",
              "      <td>82</td>\n",
              "      <td>2017</td>\n",
              "    </tr>\n",
              "  </tbody>\n",
              "</table>\n",
              "<p>913000 rows × 5 columns</p>\n",
              "</div>"
            ],
            "text/plain": [
              "             date  store  item  sales  year\n",
              "0      2013-01-01      1     1     13  2013\n",
              "1      2013-01-01      7    12     26  2013\n",
              "2      2013-01-01      7    46     27  2013\n",
              "3      2013-01-01      8    12     54  2013\n",
              "4      2013-01-01      9    12     35  2013\n",
              "...           ...    ...   ...    ...   ...\n",
              "912995 2017-12-31      9    34     21  2017\n",
              "912996 2017-12-31     10    34     32  2017\n",
              "912997 2017-12-31      1    35     55  2017\n",
              "912998 2017-12-31      8    33    100  2017\n",
              "912999 2017-12-31     10    50     82  2017\n",
              "\n",
              "[913000 rows x 5 columns]"
            ]
          },
          "execution_count": 67,
          "metadata": {},
          "output_type": "execute_result"
        }
      ],
      "source": [
        "X_xg"
      ]
    },
    {
      "cell_type": "code",
      "execution_count": 68,
      "metadata": {
        "id": "kEncRiHWKKpB"
      },
      "outputs": [],
      "source": [
        "X_xg['day'] = X_xg['date'].dt.day\n",
        "X_xg['month'] = X_xg['date'].dt.month\n",
        "X_xg['year'] = X_xg['date'].dt.year\n",
        "\n",
        "\n",
        "X_xg.drop(columns=['date'], inplace=True)\n",
        "\n",
        "scaler = MinMaxScaler()\n",
        "X_xg = scaler.fit_transform(X_xg)\n",
        "\n",
        "\n",
        "y_xg = X_xg[:, -1]\n",
        "\n",
        "\n",
        "X_xg = X_xg[:, :-1]\n"
      ]
    },
    {
      "cell_type": "code",
      "execution_count": 69,
      "metadata": {
        "colab": {
          "base_uri": "https://localhost:8080/"
        },
        "id": "73gA4I9zLb7o",
        "outputId": "0364a33f-e3ba-45e5-8d47-4524b763940a"
      },
      "outputs": [
        {
          "data": {
            "text/plain": [
              "array([0., 0., 0., ..., 1., 1., 1.])"
            ]
          },
          "execution_count": 69,
          "metadata": {},
          "output_type": "execute_result"
        }
      ],
      "source": [
        "y_xg"
      ]
    },
    {
      "cell_type": "code",
      "execution_count": 74,
      "metadata": {
        "id": "6T1MHGv3JYVA"
      },
      "outputs": [],
      "source": [
        "X_train, X_test, y_train, y_test = train_test_split(X_xg, y_xg, test_size=0.2, shuffle=False, random_state = 42)"
      ]
    },
    {
      "cell_type": "code",
      "execution_count": 75,
      "metadata": {
        "colab": {
          "base_uri": "https://localhost:8080/"
        },
        "id": "JhpHR0VnMqn3",
        "outputId": "ddeaa07d-b0e5-4f97-ddff-e88f4785ff4d"
      },
      "outputs": [
        {
          "name": "stdout",
          "output_type": "stream",
          "text": [
            "Mean Squared Error Train: 0.09749153679774702\n",
            "Mean Squared Error Test: 0.09750570285687096\n"
          ]
        }
      ],
      "source": [
        "# Initialize and train Linear Regression model\n",
        "linear_model = LinearRegression()\n",
        "linear_model.fit(X_train, y_train)\n",
        "\n",
        "# Make predictions\n",
        "y_pred_linear = linear_model.predict(X_test)\n",
        "\n",
        "y_pred_xg = linear_model.predict(X_test)\n",
        "y_train_pred = linear_model.predict(X_train)\n",
        "mse_xg_train = mean_squared_error(y_train, y_train_pred)\n",
        "mse_xg = mean_squared_error(y_test, y_pred_xg)\n",
        "print(\"Mean Squared Error Train:\", mse_xg_train)\n",
        "print(\"Mean Squared Error Test:\", mse_xg)\n"
      ]
    },
    {
      "cell_type": "markdown",
      "metadata": {
        "id": "rWUJYmeo-iWi"
      },
      "source": [
        "## MLPRegressor\n"
      ]
    },
    {
      "cell_type": "code",
      "execution_count": 76,
      "metadata": {
        "id": "0peaetTj17Bo"
      },
      "outputs": [],
      "source": [
        "r_x = X.copy()"
      ]
    },
    {
      "cell_type": "code",
      "execution_count": 77,
      "metadata": {
        "colab": {
          "base_uri": "https://localhost:8080/",
          "height": 423
        },
        "id": "MGR_xxmS40Ir",
        "outputId": "edb723e2-b747-4f33-d416-786d6c13ae8f"
      },
      "outputs": [
        {
          "data": {
            "text/html": [
              "<div>\n",
              "<style scoped>\n",
              "    .dataframe tbody tr th:only-of-type {\n",
              "        vertical-align: middle;\n",
              "    }\n",
              "\n",
              "    .dataframe tbody tr th {\n",
              "        vertical-align: top;\n",
              "    }\n",
              "\n",
              "    .dataframe thead th {\n",
              "        text-align: right;\n",
              "    }\n",
              "</style>\n",
              "<table border=\"1\" class=\"dataframe\">\n",
              "  <thead>\n",
              "    <tr style=\"text-align: right;\">\n",
              "      <th></th>\n",
              "      <th>date</th>\n",
              "      <th>store</th>\n",
              "      <th>item</th>\n",
              "      <th>sales</th>\n",
              "      <th>year</th>\n",
              "    </tr>\n",
              "  </thead>\n",
              "  <tbody>\n",
              "    <tr>\n",
              "      <th>0</th>\n",
              "      <td>2013-01-01</td>\n",
              "      <td>1</td>\n",
              "      <td>1</td>\n",
              "      <td>13</td>\n",
              "      <td>2013</td>\n",
              "    </tr>\n",
              "    <tr>\n",
              "      <th>1</th>\n",
              "      <td>2013-01-01</td>\n",
              "      <td>7</td>\n",
              "      <td>12</td>\n",
              "      <td>26</td>\n",
              "      <td>2013</td>\n",
              "    </tr>\n",
              "    <tr>\n",
              "      <th>2</th>\n",
              "      <td>2013-01-01</td>\n",
              "      <td>7</td>\n",
              "      <td>46</td>\n",
              "      <td>27</td>\n",
              "      <td>2013</td>\n",
              "    </tr>\n",
              "    <tr>\n",
              "      <th>3</th>\n",
              "      <td>2013-01-01</td>\n",
              "      <td>8</td>\n",
              "      <td>12</td>\n",
              "      <td>54</td>\n",
              "      <td>2013</td>\n",
              "    </tr>\n",
              "    <tr>\n",
              "      <th>4</th>\n",
              "      <td>2013-01-01</td>\n",
              "      <td>9</td>\n",
              "      <td>12</td>\n",
              "      <td>35</td>\n",
              "      <td>2013</td>\n",
              "    </tr>\n",
              "    <tr>\n",
              "      <th>...</th>\n",
              "      <td>...</td>\n",
              "      <td>...</td>\n",
              "      <td>...</td>\n",
              "      <td>...</td>\n",
              "      <td>...</td>\n",
              "    </tr>\n",
              "    <tr>\n",
              "      <th>912995</th>\n",
              "      <td>2017-12-31</td>\n",
              "      <td>9</td>\n",
              "      <td>34</td>\n",
              "      <td>21</td>\n",
              "      <td>2017</td>\n",
              "    </tr>\n",
              "    <tr>\n",
              "      <th>912996</th>\n",
              "      <td>2017-12-31</td>\n",
              "      <td>10</td>\n",
              "      <td>34</td>\n",
              "      <td>32</td>\n",
              "      <td>2017</td>\n",
              "    </tr>\n",
              "    <tr>\n",
              "      <th>912997</th>\n",
              "      <td>2017-12-31</td>\n",
              "      <td>1</td>\n",
              "      <td>35</td>\n",
              "      <td>55</td>\n",
              "      <td>2017</td>\n",
              "    </tr>\n",
              "    <tr>\n",
              "      <th>912998</th>\n",
              "      <td>2017-12-31</td>\n",
              "      <td>8</td>\n",
              "      <td>33</td>\n",
              "      <td>100</td>\n",
              "      <td>2017</td>\n",
              "    </tr>\n",
              "    <tr>\n",
              "      <th>912999</th>\n",
              "      <td>2017-12-31</td>\n",
              "      <td>10</td>\n",
              "      <td>50</td>\n",
              "      <td>82</td>\n",
              "      <td>2017</td>\n",
              "    </tr>\n",
              "  </tbody>\n",
              "</table>\n",
              "<p>913000 rows × 5 columns</p>\n",
              "</div>"
            ],
            "text/plain": [
              "             date  store  item  sales  year\n",
              "0      2013-01-01      1     1     13  2013\n",
              "1      2013-01-01      7    12     26  2013\n",
              "2      2013-01-01      7    46     27  2013\n",
              "3      2013-01-01      8    12     54  2013\n",
              "4      2013-01-01      9    12     35  2013\n",
              "...           ...    ...   ...    ...   ...\n",
              "912995 2017-12-31      9    34     21  2017\n",
              "912996 2017-12-31     10    34     32  2017\n",
              "912997 2017-12-31      1    35     55  2017\n",
              "912998 2017-12-31      8    33    100  2017\n",
              "912999 2017-12-31     10    50     82  2017\n",
              "\n",
              "[913000 rows x 5 columns]"
            ]
          },
          "execution_count": 77,
          "metadata": {},
          "output_type": "execute_result"
        }
      ],
      "source": [
        "r_x"
      ]
    },
    {
      "cell_type": "code",
      "execution_count": 78,
      "metadata": {
        "id": "b_q_obyN8pny"
      },
      "outputs": [],
      "source": [
        "# Converting 'date' column to ordinal to use it as a feature\n",
        "r_x['date'] = r_x['date'].apply(lambda x: x.toordinal())"
      ]
    },
    {
      "cell_type": "code",
      "execution_count": 79,
      "metadata": {
        "id": "ut_qOgD13E-o"
      },
      "outputs": [],
      "source": [
        "# Dropping the 'sales' column from features\n",
        "R_X = r_x.drop(columns=['sales'])\n",
        "\n",
        "# Target variable for training set\n",
        "y_train = r_x['sales'].values.reshape(-1, 1)  # Reshape y_train into a 2D array\n",
        "\n",
        "# Features for training set (dropping 'date' and 'sales' columns)\n",
        "# X_train = r_x.drop(columns=['date', 'sales'])\n",
        "X_train = R_X\n",
        "\n",
        "# Preprocessing: Scale the features\n",
        "scaler_X = MinMaxScaler()\n",
        "X_train_scaled = scaler_X.fit_transform(X_train)"
      ]
    },
    {
      "cell_type": "code",
      "execution_count": 80,
      "metadata": {
        "id": "yhhdR8aJ3FVp"
      },
      "outputs": [],
      "source": [
        "# Splitting the data into training and testing sets\n",
        "X_train_split, X_test_split, y_train_split, y_test_split = train_test_split(X_train_scaled, y_train, test_size=0.2, random_state=42)"
      ]
    },
    {
      "cell_type": "code",
      "execution_count": 83,
      "metadata": {},
      "outputs": [
        {
          "name": "stderr",
          "output_type": "stream",
          "text": [
            "/Library/Frameworks/Python.framework/Versions/3.8/lib/python3.8/site-packages/sklearn/neural_network/_multilayer_perceptron.py:1625: DataConversionWarning: A column-vector y was passed when a 1d array was expected. Please change the shape of y to (n_samples, ), for example using ravel().\n",
            "  y = column_or_1d(y, warn=True)\n",
            "/Library/Frameworks/Python.framework/Versions/3.8/lib/python3.8/site-packages/sklearn/neural_network/_multilayer_perceptron.py:691: ConvergenceWarning: Stochastic Optimizer: Maximum iterations (50) reached and the optimization hasn't converged yet.\n",
            "  warnings.warn(\n"
          ]
        },
        {
          "data": {
            "text/html": [
              "<style>#sk-container-id-2 {color: black;}#sk-container-id-2 pre{padding: 0;}#sk-container-id-2 div.sk-toggleable {background-color: white;}#sk-container-id-2 label.sk-toggleable__label {cursor: pointer;display: block;width: 100%;margin-bottom: 0;padding: 0.3em;box-sizing: border-box;text-align: center;}#sk-container-id-2 label.sk-toggleable__label-arrow:before {content: \"▸\";float: left;margin-right: 0.25em;color: #696969;}#sk-container-id-2 label.sk-toggleable__label-arrow:hover:before {color: black;}#sk-container-id-2 div.sk-estimator:hover label.sk-toggleable__label-arrow:before {color: black;}#sk-container-id-2 div.sk-toggleable__content {max-height: 0;max-width: 0;overflow: hidden;text-align: left;background-color: #f0f8ff;}#sk-container-id-2 div.sk-toggleable__content pre {margin: 0.2em;color: black;border-radius: 0.25em;background-color: #f0f8ff;}#sk-container-id-2 input.sk-toggleable__control:checked~div.sk-toggleable__content {max-height: 200px;max-width: 100%;overflow: auto;}#sk-container-id-2 input.sk-toggleable__control:checked~label.sk-toggleable__label-arrow:before {content: \"▾\";}#sk-container-id-2 div.sk-estimator input.sk-toggleable__control:checked~label.sk-toggleable__label {background-color: #d4ebff;}#sk-container-id-2 div.sk-label input.sk-toggleable__control:checked~label.sk-toggleable__label {background-color: #d4ebff;}#sk-container-id-2 input.sk-hidden--visually {border: 0;clip: rect(1px 1px 1px 1px);clip: rect(1px, 1px, 1px, 1px);height: 1px;margin: -1px;overflow: hidden;padding: 0;position: absolute;width: 1px;}#sk-container-id-2 div.sk-estimator {font-family: monospace;background-color: #f0f8ff;border: 1px dotted black;border-radius: 0.25em;box-sizing: border-box;margin-bottom: 0.5em;}#sk-container-id-2 div.sk-estimator:hover {background-color: #d4ebff;}#sk-container-id-2 div.sk-parallel-item::after {content: \"\";width: 100%;border-bottom: 1px solid gray;flex-grow: 1;}#sk-container-id-2 div.sk-label:hover label.sk-toggleable__label {background-color: #d4ebff;}#sk-container-id-2 div.sk-serial::before {content: \"\";position: absolute;border-left: 1px solid gray;box-sizing: border-box;top: 0;bottom: 0;left: 50%;z-index: 0;}#sk-container-id-2 div.sk-serial {display: flex;flex-direction: column;align-items: center;background-color: white;padding-right: 0.2em;padding-left: 0.2em;position: relative;}#sk-container-id-2 div.sk-item {position: relative;z-index: 1;}#sk-container-id-2 div.sk-parallel {display: flex;align-items: stretch;justify-content: center;background-color: white;position: relative;}#sk-container-id-2 div.sk-item::before, #sk-container-id-2 div.sk-parallel-item::before {content: \"\";position: absolute;border-left: 1px solid gray;box-sizing: border-box;top: 0;bottom: 0;left: 50%;z-index: -1;}#sk-container-id-2 div.sk-parallel-item {display: flex;flex-direction: column;z-index: 1;position: relative;background-color: white;}#sk-container-id-2 div.sk-parallel-item:first-child::after {align-self: flex-end;width: 50%;}#sk-container-id-2 div.sk-parallel-item:last-child::after {align-self: flex-start;width: 50%;}#sk-container-id-2 div.sk-parallel-item:only-child::after {width: 0;}#sk-container-id-2 div.sk-dashed-wrapped {border: 1px dashed gray;margin: 0 0.4em 0.5em 0.4em;box-sizing: border-box;padding-bottom: 0.4em;background-color: white;}#sk-container-id-2 div.sk-label label {font-family: monospace;font-weight: bold;display: inline-block;line-height: 1.2em;}#sk-container-id-2 div.sk-label-container {text-align: center;}#sk-container-id-2 div.sk-container {/* jupyter's `normalize.less` sets `[hidden] { display: none; }` but bootstrap.min.css set `[hidden] { display: none !important; }` so we also need the `!important` here to be able to override the default hidden behavior on the sphinx rendered scikit-learn.org. See: https://github.com/scikit-learn/scikit-learn/issues/21755 */display: inline-block !important;position: relative;}#sk-container-id-2 div.sk-text-repr-fallback {display: none;}</style><div id=\"sk-container-id-2\" class=\"sk-top-container\"><div class=\"sk-text-repr-fallback\"><pre>MLPRegressor(hidden_layer_sizes=(50, 50), max_iter=50, random_state=42)</pre><b>In a Jupyter environment, please rerun this cell to show the HTML representation or trust the notebook. <br />On GitHub, the HTML representation is unable to render, please try loading this page with nbviewer.org.</b></div><div class=\"sk-container\" hidden><div class=\"sk-item\"><div class=\"sk-estimator sk-toggleable\"><input class=\"sk-toggleable__control sk-hidden--visually\" id=\"sk-estimator-id-2\" type=\"checkbox\" checked><label for=\"sk-estimator-id-2\" class=\"sk-toggleable__label sk-toggleable__label-arrow\">MLPRegressor</label><div class=\"sk-toggleable__content\"><pre>MLPRegressor(hidden_layer_sizes=(50, 50), max_iter=50, random_state=42)</pre></div></div></div></div></div>"
            ],
            "text/plain": [
              "MLPRegressor(hidden_layer_sizes=(50, 50), max_iter=50, random_state=42)"
            ]
          },
          "execution_count": 83,
          "metadata": {},
          "output_type": "execute_result"
        }
      ],
      "source": [
        "# Initialize and train MLP Regressor\n",
        "mlp_model = MLPRegressor(hidden_layer_sizes=(50, 50), max_iter=50, random_state=42)\n",
        "mlp_model.fit(X_train_split, y_train_split)"
      ]
    },
    {
      "cell_type": "code",
      "execution_count": 84,
      "metadata": {
        "colab": {
          "base_uri": "https://localhost:8080/"
        },
        "id": "ZA0PWsqS61N6",
        "outputId": "41210261-af90-4ba6-d303-fbb30c2c5bd0"
      },
      "outputs": [
        {
          "name": "stdout",
          "output_type": "stream",
          "text": [
            "Mean Squared Error on Training Set: 485.6661055876162\n"
          ]
        }
      ],
      "source": [
        "# Predicting on the training set\n",
        "y_train_pred = mlp_model.predict(X_train_split)\n",
        "\n",
        "# Calculating Mean Squared Error on training set\n",
        "mse_rf_train = mean_squared_error(y_train_split, y_train_pred)\n",
        "print(\"Mean Squared Error on Training Set:\", mse_rf_train)"
      ]
    },
    {
      "cell_type": "code",
      "execution_count": 85,
      "metadata": {
        "colab": {
          "base_uri": "https://localhost:8080/"
        },
        "id": "mi0ppKed3HFW",
        "outputId": "e88548f3-e1ed-4e61-af14-5e706f286b13"
      },
      "outputs": [
        {
          "name": "stdout",
          "output_type": "stream",
          "text": [
            "Mean Squared Error: 485.5046464459794\n"
          ]
        }
      ],
      "source": [
        "# Predicting on the testing set\n",
        "y_pred = mlp_model.predict(X_test_split)\n",
        "\n",
        "# Evaluating the model\n",
        "mse_rf_test = mean_squared_error(y_test_split, y_pred)\n",
        "print(\"Mean Squared Error:\", mse_rf_test)"
      ]
    },
    {
      "cell_type": "markdown",
      "metadata": {
        "id": "G0bV9fBw-05m"
      },
      "source": [
        "## MLP"
      ]
    },
    {
      "cell_type": "code",
      "execution_count": 86,
      "metadata": {
        "id": "o1jSkklY-Lz8"
      },
      "outputs": [],
      "source": [
        "r_x = X.copy()"
      ]
    },
    {
      "cell_type": "code",
      "execution_count": 87,
      "metadata": {
        "id": "TIYQsmn8-jCV"
      },
      "outputs": [],
      "source": [
        "# Converting 'date' column to ordinal to use it as a feature\n",
        "r_x['date'] = r_x['date'].apply(lambda x: x.toordinal())"
      ]
    },
    {
      "cell_type": "code",
      "execution_count": 88,
      "metadata": {
        "id": "JN5L9Epv-6tw"
      },
      "outputs": [],
      "source": [
        "R_X = r_x.drop(columns=['sales'])  # Dropping the 'sales' column from features\n",
        "y_train = r_x['sales']  # Target variable for training set\n",
        "#X_train = r_x.drop(columns=['date', 'sales'])  # Features for training set (dropping 'date' and 'sales' columns)\n",
        "X_train = R_X\n",
        "# Preprocessing: Scale the features\n",
        "scaler = MinMaxScaler()\n",
        "X_train_scaled = scaler.fit_transform(X_train)\n",
        "y = scaler.fit_transform(r_x[['sales']])\n",
        "\n",
        "# Splitting the data into training and testing sets\n",
        "X_train_split, X_test_split, y_train_split, y_test_split = train_test_split(X_train_scaled, y, test_size=0.2, random_state=42)"
      ]
    },
    {
      "cell_type": "code",
      "execution_count": 92,
      "metadata": {
        "id": "RtO5Hkp9-Mkb"
      },
      "outputs": [
        {
          "name": "stdout",
          "output_type": "stream",
          "text": [
            "Epoch 1/20\n",
            "20543/20543 [==============================] - 6s 272us/step - loss: 0.0127 - val_loss: 0.0123\n",
            "Epoch 2/20\n",
            "20543/20543 [==============================] - 6s 276us/step - loss: 0.0112 - val_loss: 0.0107\n",
            "Epoch 3/20\n",
            "20543/20543 [==============================] - 6s 277us/step - loss: 0.0108 - val_loss: 0.0106\n",
            "Epoch 4/20\n",
            "20543/20543 [==============================] - 6s 278us/step - loss: 0.0105 - val_loss: 0.0106\n",
            "Epoch 5/20\n",
            "20543/20543 [==============================] - 6s 293us/step - loss: 0.0103 - val_loss: 0.0102\n",
            "Epoch 6/20\n",
            "20543/20543 [==============================] - 6s 292us/step - loss: 0.0103 - val_loss: 0.0101\n",
            "Epoch 7/20\n",
            "20543/20543 [==============================] - 6s 276us/step - loss: 0.0102 - val_loss: 0.0100\n",
            "Epoch 8/20\n",
            "20543/20543 [==============================] - 6s 276us/step - loss: 0.0102 - val_loss: 0.0101\n",
            "Epoch 9/20\n",
            "20543/20543 [==============================] - 6s 291us/step - loss: 0.0101 - val_loss: 0.0099\n",
            "Epoch 10/20\n",
            "20543/20543 [==============================] - 6s 287us/step - loss: 0.0101 - val_loss: 0.0099\n",
            "Epoch 11/20\n",
            "20543/20543 [==============================] - 6s 285us/step - loss: 0.0101 - val_loss: 0.0116\n",
            "Epoch 12/20\n",
            "20543/20543 [==============================] - 6s 283us/step - loss: 0.0100 - val_loss: 0.0102\n",
            "Epoch 13/20\n",
            "20543/20543 [==============================] - 6s 278us/step - loss: 0.0100 - val_loss: 0.0099\n",
            "Epoch 14/20\n",
            "20543/20543 [==============================] - 6s 278us/step - loss: 0.0100 - val_loss: 0.0100\n",
            "Epoch 15/20\n",
            "20543/20543 [==============================] - 6s 277us/step - loss: 0.0100 - val_loss: 0.0099\n",
            "Epoch 16/20\n",
            "20543/20543 [==============================] - 6s 279us/step - loss: 0.0100 - val_loss: 0.0102\n",
            "Epoch 17/20\n",
            "20543/20543 [==============================] - 6s 278us/step - loss: 0.0100 - val_loss: 0.0100\n",
            "Epoch 18/20\n",
            "20543/20543 [==============================] - 6s 277us/step - loss: 0.0100 - val_loss: 0.0100\n",
            "Epoch 19/20\n",
            "20543/20543 [==============================] - 6s 277us/step - loss: 0.0100 - val_loss: 0.0098\n",
            "Epoch 20/20\n",
            "20543/20543 [==============================] - 6s 277us/step - loss: 0.0100 - val_loss: 0.0101\n",
            "5707/5707 [==============================] - 1s 203us/step\n",
            "Mean Squared Error (MLP): 0.010103840109644437\n"
          ]
        }
      ],
      "source": [
        "# Define the model architecture\n",
        "mlp_model = Sequential()\n",
        "mlp_model.add(Dense(32, input_dim=X_train_scaled.shape[1], activation='relu'))\n",
        "mlp_model.add(Dense(1, activation='linear'))  # Output layer\n",
        "\n",
        "# Compile the model\n",
        "mlp_model.compile(optimizer='adam', loss='mean_squared_error')\n",
        "\n",
        "# Train the model\n",
        "mlp_model.fit(X_train_split, y_train_split, epochs=20, batch_size=32, validation_split=0.1)\n",
        "\n",
        "# Predicting on the testing set\n",
        "y_pred_mlp = mlp_model.predict(X_test_split)\n",
        "\n",
        "# Evaluating the model\n",
        "mse_mlp = mean_squared_error(y_test_split, y_pred_mlp)\n",
        "print(\"Mean Squared Error (MLP):\", mse_mlp)"
      ]
    },
    {
      "cell_type": "markdown",
      "metadata": {
        "id": "ofGOo3lM8qp5",
        "nbgrader": {
          "grade": false,
          "locked": true,
          "solution": false
        }
      },
      "source": [
        "# 3. Baseline Performance\n"
      ]
    },
    {
      "cell_type": "code",
      "execution_count": 93,
      "metadata": {
        "colab": {
          "base_uri": "https://localhost:8080/",
          "height": 607
        },
        "id": "LBoLcgTG3aBX",
        "outputId": "0b183137-3f35-46be-d27e-844252efec86"
      },
      "outputs": [
        {
          "data": {
            "image/png": "[encoded data removed]",
            "text/plain": [
              "<Figure size 1000x600 with 1 Axes>"
            ]
          },
          "metadata": {},
          "output_type": "display_data"
        }
      ],
      "source": [
        "import matplotlib.pyplot as plt\n",
        "import numpy as np\n",
        "\n",
        "models = ['LSTM', 'MLP BPN','LR', 'MLPRegressor']\n",
        "\n",
        "# Train MSE values\n",
        "train_mse = [0.0135, 0.01, 0.0974, 485.60]\n",
        "\n",
        "# Test MSE values\n",
        "test_mse = [0.0134, 0.0101, 0.0975, 485.62]\n",
        "\n",
        "# Plotting\n",
        "plt.figure(figsize=(10, 6))\n",
        "\n",
        "bar_width = 0.35\n",
        "index = np.arange(len(models))\n",
        "\n",
        "bars1 = plt.bar(index, train_mse, bar_width, color='blue', label='Train MSE')\n",
        "bars2 = plt.bar(index + bar_width, test_mse, bar_width, color='orange', label='Test MSE')\n",
        "\n",
        "plt.yscale('log')\n",
        "\n",
        "plt.xlabel('Models')\n",
        "plt.ylabel('Mean Squared Error (MSE)')\n",
        "plt.title('Comparison of Train and Test MSE for Different Models')\n",
        "plt.legend()\n",
        "plt.xticks(index + bar_width / 2, models, rotation=45)\n",
        "\n",
        "for bars in [bars1, bars2]:\n",
        "    for bar in bars:\n",
        "        yval = bar.get_height()\n",
        "        plt.text(bar.get_x() + bar.get_width() / 2, yval, round(yval, 4), va='bottom', ha='center')\n",
        "\n",
        "plt.tight_layout()\n",
        "plt.show()\n"
      ]
    },
    {
      "cell_type": "code",
      "execution_count": null,
      "metadata": {},
      "outputs": [],
      "source": []
    }
  ],
  "metadata": {
    "accelerator": "GPU",
    "colab": {
      "gpuType": "T4",
      "provenance": []
    },
    "kernelspec": {
      "display_name": "Python 3",
      "name": "python3"
    },
    "language_info": {
      "codemirror_mode": {
        "name": "ipython",
        "version": 3
      },
      "file_extension": ".py",
      "mimetype": "text/x-python",
      "name": "python",
      "nbconvert_exporter": "python",
      "pygments_lexer": "ipython3",
      "version": "3.12.5"
    }
  },
  "nbformat": 4,
  "nbformat_minor": 0
}
